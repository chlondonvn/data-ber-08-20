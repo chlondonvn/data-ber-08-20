{
 "cells": [
  {
   "cell_type": "markdown",
   "metadata": {},
   "source": [
    "**Machine Learning!!**\n",
    " - software (code) that emulates learning \n",
    " ### 1. Supervised \n",
    " - labeled data (training set of correctly identified observations) \n",
    " - predicts an output based on input\n",
    " \n",
    "**Regression - an algorithm that assigns a real-valued output to a new observation as input**\n",
    " \n",
    " eg. revenue on day x \n",
    " eg. classification - identifying which set of categories a new observation belongs to, churn/not churn, genre classification\n",
    " \n",
    " ### 2. Unsupervised \n",
    " - identification of patterns in a dataset without the presence of labeled data\n",
    " \n",
    "**Clustering**\n",
    " - grouping a set of obejcts such that objects in the same group are more similar to each other than to those in other groups\n",
    " - eg customer segmentation\n",
    " - anomaly detection \n",
    " \n",
    "### 3. Reinforcement Learning\n",
    " - learning through a process of trial and error\n",
    " - provides feeback to the algorithm instead of using labelled data"
   ]
  },
  {
   "cell_type": "markdown",
   "metadata": {},
   "source": [
    "**Workflow (supervised)**\n",
    "*may be different for different people and different datasets*\n",
    "\n",
    "1. Data Cleaning\n",
    "- casting to correct data types\n",
    "- handle missing values \n",
    "- handle outliers \n",
    "\n",
    "2. Data Preprocessing\n",
    "- scaling (normalizing)\n",
    "- standardizing\n",
    "- converting categorical variables to dummy variables (one-hot-encoding)\n",
    "\n",
    "3. Feature Engineering \n",
    "- adding features (variables, dimensions) from other data sources or extracting additiona information from existing features (combining, cutting, grouping, clustering, extracting, etc)\n",
    "\n",
    "4. Feature Selection \n",
    "- balance between predictive power, computational cost, information loss\n",
    "- dropping correlated and unimportant features \n",
    "- keeping important features \n",
    "\n",
    "5. Split the dataset \n",
    "- train/test\n",
    "- train/validate/test\n",
    "- n-fold cross-validation/test\n",
    "\n",
    "6. Train model\n",
    "- fit the model based on training data\n",
    "\n",
    "7. validate model/tune parameters\n",
    "- estimating how well a model will generalize\n",
    "\n",
    "8. Test\n",
    "\n",
    "\n"
   ]
  },
  {
   "cell_type": "markdown",
   "metadata": {},
   "source": [
    "## Logistic Regression\n",
    "![log regression](img/log_reg1.png)\n",
    "![log regression 2](img/log_reg2.png)"
   ]
  },
  {
   "cell_type": "markdown",
   "metadata": {},
   "source": [
    "## Decision Trees\n",
    "- learn through decision rules infeered from data features\n",
    "- function with an if-then-else decision rules\n",
    "- white-box -> you can see/understand what happens inside the box\n",
    "- gini score \n",
    "![decision tree](img/decision_tree1.png)\n",
    "![decision tree](img/decision_tree2.png)"
   ]
  },
  {
   "cell_type": "markdown",
   "metadata": {},
   "source": [
    "## Cross Validation\n",
    "![cross validate](img/cross_validate.png)\n",
    "![cross validate](img/cross_validate2.png)"
   ]
  },
  {
   "cell_type": "markdown",
   "metadata": {},
   "source": [
    "## Variance-Bias Tradeoff\n",
    "\n",
    "Bias: \"How close a model fits the relationship\"\n",
    "Variance: \"How different a model fits between training and test data\"\n",
    "![bias vs variance](img/bias_variance.png)\n",
    "![trade_off](img/trade_off.png)"
   ]
  },
  {
   "cell_type": "markdown",
   "metadata": {},
   "source": [
    "# K-means clustering\n",
    "Algorithm:\n",
    "\n",
    "1. initialize centroids\n",
    "\n",
    "**Assignment phase**\n",
    "2. Assign your observations to centroids based on distance (eg. euclidean distance)\n",
    "\n",
    "**Update phase**\n",
    "3. Recalculate your centroids as the means of the observations that belong to a cluster\n",
    "\n",
    "4. Repeate (2) Assignment and (3) update until the assignemnts are no longer changed\n",
    "\n",
    "--> Algorithim has converged\n",
    "\n",
    "Inertia -> sum of the variance of each cluster\n",
    "\n",
    "![kmeans](img/kmeans.png)"
   ]
  },
  {
   "cell_type": "markdown",
   "metadata": {},
   "source": [
    "## KNN\n",
    "![knn](img/knn1.png)\n",
    "![knn](img/knn2.png)\n"
   ]
  },
  {
   "cell_type": "code",
   "execution_count": null,
   "metadata": {},
   "outputs": [],
   "source": []
  }
 ],
 "metadata": {
  "kernelspec": {
   "display_name": "Python 3",
   "language": "python",
   "name": "python3"
  },
  "language_info": {
   "codemirror_mode": {
    "name": "ipython",
    "version": 3
   },
   "file_extension": ".py",
   "mimetype": "text/x-python",
   "name": "python",
   "nbconvert_exporter": "python",
   "pygments_lexer": "ipython3",
   "version": "3.8.5"
  }
 },
 "nbformat": 4,
 "nbformat_minor": 4
}
